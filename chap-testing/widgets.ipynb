{
 "cells": [
  {
   "cell_type": "code",
   "execution_count": null,
   "id": "362931ef",
   "metadata": {
    "tags": [
     "hide-input",
     "thebe-init"
    ],
    "title": "Figure Setup"
   },
   "outputs": [],
   "source": [
    "# Set default plotting parameters.\n",
    "\n",
    "import matplotlib.pyplot as plt\n",
    "\n",
    "plt.rcParams['text.usetex'] = True\n",
    "plt.rcParams['font.family'] = 'computer modern sans serif'\n",
    "plt.rcParams['font.size'] = 9\n",
    "plt.rcParams['lines.markersize'] = 2.5\n",
    "plt.rcParams['figure.figsize'] = 3, 2\n",
    "plt.rcParams['figure.dpi'] = 136"
   ]
  },
  {
   "cell_type": "markdown",
   "id": "a5887caf",
   "metadata": {
    "tags": [
     "remove-cell"
    ],
    "title": "Macros Setup"
   },
   "source": [
    "$$\n",
    "$$"
   ]
  },
  {
   "cell_type": "markdown",
   "id": "9a8c2420",
   "metadata": {
    "cell_marker": "\"\"\""
   },
   "source": [
    "# Widgets test\n",
    "\n",
    "Below is a test of matplotlib widgets."
   ]
  },
  {
   "cell_type": "code",
   "execution_count": null,
   "id": "d002d11d",
   "metadata": {},
   "outputs": [],
   "source": [
    "\n",
    "%matplotlib widget\n",
    "\n",
    "import numpy as np\n",
    "import matplotlib.pyplot as plt\n",
    "from matplotlib.widgets import Slider\n",
    "\n",
    "def get_fourier_sums(xs, N):\n",
    "    fourier_sums = np.zeros(len(xs)) + .5\n",
    "    for n in range(1, N+1):\n",
    "        fourier_sums -= np.sin(2*np.pi*n*xs) / (np.pi*n)\n",
    "    return fourier_sums\n",
    "\n",
    "dx = .01\n",
    "xs, N = np.arange(0+dx, 1, dx), 1\n",
    "\n",
    "# Initialize the plot.\n",
    "fig, ax = plt.subplots()\n",
    "plt.subplots_adjust(left=0.25, bottom=0.25)  # Make room for sliders.\n",
    "[line] = ax.plot(xs, get_fourier_sums(xs, N))\n",
    "ax.set_ylim([0, 1])\n",
    "\n",
    "# Create parameter sliders.\n",
    "ax_N = plt.axes([0.25, 0.1, 0.65, 0.03])\n",
    "slider_N = Slider(ax_N, label='$N$', valmin=1, valmax=100, valstep=1, valinit=N)\n",
    "\n",
    "# Update sliders.\n",
    "def update_plot(val):\n",
    "    N = slider_N.val\n",
    "    line.set_ydata(get_fourier_sums(xs, N))\n",
    "    fig.canvas.draw_idle()  # Redraw with new slider parameters.\n",
    "\n",
    "slider_N.on_changed(update_plot);\n",
    "plt.show()"
   ]
  }
 ],
 "metadata": {
  "kernelspec": {
   "display_name": "Python 3",
   "language": "python",
   "name": "python3"
  }
 },
 "nbformat": 4,
 "nbformat_minor": 5
}
