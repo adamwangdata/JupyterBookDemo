{
 "cells": [
  {
   "cell_type": "code",
   "execution_count": null,
   "id": "d4e1eac1",
   "metadata": {
    "tags": [
     "remove-cell"
    ],
    "title": "Figure Setup"
   },
   "outputs": [],
   "source": [
    "import matplotlib.pyplot as plt\n",
    "\n",
    "plt.rcParams['text.usetex'] = True\n",
    "plt.rcParams['font.family'] = 'computer modern sans serif'\n",
    "plt.rcParams['font.size'] = 9\n",
    "plt.rcParams['lines.markersize'] = 2.5\n",
    "plt.rcParams['figure.figsize'] = 3, 2\n",
    "plt.rcParams['figure.dpi'] = 136"
   ]
  },
  {
   "cell_type": "markdown",
   "id": "63e4c053",
   "metadata": {
    "tags": [
     "remove-cell"
    ],
    "title": "Macros Setup"
   },
   "source": [
    "$$\n",
    "$$"
   ]
  },
  {
   "cell_type": "markdown",
   "id": "1e1d6137",
   "metadata": {
    "cell_marker": "\"\"\""
   },
   "source": [
    "# Fourier Series"
   ]
  },
  {
   "cell_type": "markdown",
   "id": "d89a10c5",
   "metadata": {
    "cell_marker": "\"\"\"",
    "title": "Fourier Series definition"
   },
   "source": [
    "## Definition\n",
    "\n",
    "For simplicity, we will restrict ourselves to functions $f(x)$ defined on the domain $x \\in [0, 1]$.\n",
    "Then the $N$th partial sum of the Fourier series of $f(x)$ is\n",
    "```{margin}\n",
    "See [Wikipedia](https://en.wikipedia.org/wiki/Fourier_series#Definition) for generalizations to other domains.\n",
    "```\n",
    "```{math}\n",
    ":label: fourier-def\n",
    "    f_N(x) =\n",
    "        \\frac{a_0}{2} + \\sum_{n=1}^N \\left[\n",
    "            a_n \\cos\\left(2\\pi nx\\right) + b_n \\sin\\left(2\\pi nx\\right)\n",
    "        \\right]\n",
    "```\n",
    "where the so-called Fourier coefficients are\n",
    "```{math}\n",
    ":label: fourier-coef\n",
    "    a_n &= 2 \\int_{0}^{1} f(x) \\cos\\left(2\\pi nx\\right), \\\\\n",
    "    b_n &= 2 \\int_{0}^{1} f(x) \\sin\\left(2\\pi nx\\right).\n",
    "```\n",
    "When $N$ is small, $f_N(x)$ is usually a poor approximation of $f(x)$ because $f_1(x)$ consists of only one frequency.\n",
    "As $N$ increases the approximation improves, reaching exact convergence everywhere when $N = \\infty$."
   ]
  },
  {
   "cell_type": "markdown",
   "id": "3cf77a7f",
   "metadata": {
    "cell_marker": "\"\"\"",
    "incorrectly_encoded_metadata": "f(x) =",
    "title": "Fourier Series of",
    "x": null
   },
   "source": [
    "(fourier-ex)=\n",
    "## Example: $f(x) = x$\n",
    "\n",
    "The Fourier coefficients, [](fourier-coef), are\n",
    "\\begin{align}\n",
    "    a_n &= 2 \\int_{0}^{1} x \\cos\\left(2\\pi nx\\right), \\\\\n",
    "    b_n &= 2 \\int_{0}^{1} x \\sin\\left(2\\pi nx\\right).\n",
    "\\end{align}\n",
    "It's not too hard to calculate these integrals via integration by parts, but it's even easier to use `sympy`:"
   ]
  },
  {
   "cell_type": "code",
   "execution_count": null,
   "id": "bcdaf4df",
   "metadata": {
    "title": "Sympy computation of Fourier coefficients"
   },
   "outputs": [],
   "source": [
    "\n",
    "import sympy as sp\n",
    "sp.init_printing(use_latex='mathjax')\n",
    "\n",
    "x, a_n, b_n = sp.symbols('x a_n b_n', real=True)\n",
    "n = sp.symbols('n', integer=True, nonnegative=True)\n",
    "f, u = x, 2*sp.pi*n*x"
   ]
  },
  {
   "cell_type": "markdown",
   "id": "a1dc969f",
   "metadata": {
    "cell_marker": "\"\"\"",
    "lines_to_next_cell": 0,
    "title": "Sympy note"
   },
   "source": [
    "```{margin}\n",
    "I've used `sp.Eq()` just for output appearance purposes so we have a \"left hand side equals ...\".\n",
    "Ordinarly, you'd just use\n",
    "```"
   ]
  },
  {
   "cell_type": "code",
   "execution_count": null,
   "id": "d57d8412",
   "metadata": {
    "tags": [
     "margin"
    ],
    "title": "Sympy note code"
   },
   "outputs": [],
   "source": [
    "sp.integrate(2*f*sp.cos(u), (x, 0, 1))"
   ]
  },
  {
   "cell_type": "code",
   "execution_count": null,
   "id": "03465e20",
   "metadata": {
    "title": "Sympy computation of Fourier coefficients (continued)"
   },
   "outputs": [],
   "source": [
    "\n",
    "sp.Eq(a_n, sp.integrate(2*f*sp.cos(u), (x, 0, 1)))"
   ]
  },
  {
   "cell_type": "code",
   "execution_count": null,
   "id": "4a744ca7",
   "metadata": {
    "title": "Sympy computation of Fourier coefficients (continued)"
   },
   "outputs": [],
   "source": [
    "\n",
    "sp.Eq(b_n, sp.integrate(2*f*sp.sin(u), (x, 0, 1)))"
   ]
  },
  {
   "cell_type": "markdown",
   "id": "19323242",
   "metadata": {
    "cell_marker": "\"\"\"",
    "incorrectly_encoded_metadata": "f(x) = x (continued)",
    "title": "Fourier series of"
   },
   "source": [
    "Direct substitution into [](fourier-def) yields Fourier series\n",
    "```{math}\n",
    ":label: fourier-series-x\n",
    "    f_N(x) = \\frac{1}{2} - \\sum_{n=1}^N \\frac{\\sin\\left(2\\pi nx\\right)}{\\pi n}.\n",
    "```"
   ]
  },
  {
   "cell_type": "markdown",
   "id": "b1e358ac",
   "metadata": {
    "cell_marker": "\"\"\""
   },
   "source": [
    "(fourier-viz)=\n",
    "## Visualization\n",
    "\n",
    "Let's plot [](fourier-series-x) for various $N$:\n",
    "````{margin}\n",
    "The semicolon in the last line, `ax.legend();`, is there to suppress unwanted output.\n",
    "In this case, output like\n",
    "```python\n",
    "<matplotlib.legend.Legend at 0x151d810f448>\n",
    "```\n",
    "````"
   ]
  },
  {
   "cell_type": "code",
   "execution_count": null,
   "id": "2733e32a",
   "metadata": {
    "incorrectly_encoded_metadata": "f(x) =",
    "plot": null,
    "title": "Fourier series of",
    "x": null
   },
   "outputs": [],
   "source": [
    "\n",
    "import matplotlib.pyplot as plt\n",
    "import numpy as np\n",
    "\n",
    "def get_fourier_sums(xs, N):\n",
    "    fourier_sums = np.zeros(len(xs)) + .5\n",
    "    for n in range(1, N+1):\n",
    "        fourier_sums -= np.sin(2*np.pi*n*xs) / (np.pi*n)\n",
    "    return fourier_sums\n",
    "\n",
    "dx = .01\n",
    "xs = np.arange(0+dx, 1, dx)\n",
    "fig, ax = plt.subplots()\n",
    "ax.set(xlabel='$x$', ylabel='$f_N(x)$', title='Fourier series for $f(x)=x$')\n",
    "ax.plot(xs, get_fourier_sums(xs, 1), label='$N=1$')\n",
    "ax.plot(xs, get_fourier_sums(xs, 10), label='$N=10$')\n",
    "ax.plot(xs, get_fourier_sums(xs, 100), label='$N=100$')\n",
    "ax.legend();"
   ]
  },
  {
   "cell_type": "markdown",
   "id": "fb09290c",
   "metadata": {
    "cell_marker": "\"\"\"",
    "incorrectly_encoded_metadata": "f(x) =",
    "plot": null,
    "title": "Fourier series of",
    "x": null
   },
   "source": [
    "Clearly $N = 1$ is a poor approximation because it consists of a single sinusoidal term.\n",
    "$N = 10$ captures the linear portion but has visible oscillations.\n",
    "$N = 100$ appears much smoother and matches $f(x) = x$ closely except at the boundaries.\n",
    "The boundary disagreement is because the Fourier series is periodic by nature and thus approximates a [sawtooth wave](https://en.wikipedia.org/wiki/Sawtooth_wave) when the domain is extended:"
   ]
  },
  {
   "cell_type": "code",
   "execution_count": null,
   "id": "8ce657ab",
   "metadata": {
    "tags": [
     "hide-input"
    ],
    "title": "Extended Fourier series"
   },
   "outputs": [],
   "source": [
    "\n",
    "xs = np.arange(0+dx, 3, dx)\n",
    "fig, ax = plt.subplots()\n",
    "ax.set(xlabel='$x$', ylabel='$f_N(x)$', title='Extended Fourier series for $f(x)=x$')\n",
    "ax.plot(xs, get_fourier_sums(xs, 100));"
   ]
  },
  {
   "cell_type": "markdown",
   "id": "d4b6bef0",
   "metadata": {
    "cell_marker": "\"\"\"",
    "title": "Fourier series at discontinuities"
   },
   "source": [
    "Due to discontinuities at integer values of $x$, the Fourier series actually takes the midpoint value $\\frac{1}{2}$.\n",
    "```{admonition} *Proof*\n",
    ":class: dropdown\n",
    "\n",
    "When $x$ is an integer, $nx$ is also an integer and thus $2\\pi n x$ is an integer multiple of $2\\pi$.\n",
    "It follows that $\\sin(2\\pi n x) = 0$ for all $n$.\n",
    "Looking at the calculated Fourier series, [](fourier-series-x), it follows that $f_N(x) = \\frac{1}{2}$. $\\blacksquare$\n",
    "```"
   ]
  },
  {
   "cell_type": "markdown",
   "id": "f4d93220",
   "metadata": {
    "cell_marker": "\"\"\"",
    "title": "Interactive Fourier series"
   },
   "source": [
    "## Interactive Animation\n",
    "\n",
    "The Fourier series plot for various $N$ in § [](fourier-viz) is helpful in distingushing different qualitative behaviors, but difficult to see how $f_N(x)$ changes with $N$.\n",
    "Of course, we could repeatedly make plots tuning $N$ by hand, but interactive slider plots do that much better, for example:"
   ]
  },
  {
   "cell_type": "code",
   "execution_count": null,
   "id": "bb099902",
   "metadata": {
    "lines_to_next_cell": 1,
    "title": "Interactive Fourier series"
   },
   "outputs": [],
   "source": [
    "\n",
    "import ipywidgets\n",
    "\n",
    "@ipywidgets.interact(N=ipywidgets.IntSlider(min=1, max=100, step=1))\n",
    "def fourier_slider(N):\n",
    "    dx = .01\n",
    "    xs = np.arange(0+dx, 1, dx)\n",
    "    fig, ax = plt.subplots()\n",
    "    ax.set(xlabel='$x$', ylabel='$f_N(x)$', title='Fourier series for $f(x)=x$')\n",
    "    ax.plot(xs, get_fourier_sums(xs, N), label=f'$N={N}$')\n",
    "    ax.plot(xs, xs, '--', label='$f(x) = x$')\n",
    "    ax.legend()"
   ]
  },
  {
   "cell_type": "markdown",
   "id": "9dab20b6",
   "metadata": {
    "cell_marker": "\"\"\"",
    "title": "Interactive Fourier series (continued)"
   },
   "source": [
    "If you're reading this on the online webpage, dragging the slider has no effect on the plot.\n",
    "To see live updating, you must click on the {fa}`rocket` launch button at the top of the page.\n",
    "TODO: launch with Thebe/Binder."
   ]
  },
  {
   "cell_type": "markdown",
   "id": "9cb3d7cf",
   "metadata": {
    "cell_marker": "\"\"\""
   },
   "source": [
    "````{margin}\n",
    "```{admonition} Recommendation\n",
    "To maximize your learning, we strongly recommend you attempt exercises yourself before looking at hints or solutions.\n",
    "```\n",
    "````\n",
    "\n",
    "````{tabbed} Exercise\n",
    "Compute the Fourier series $f_N(x)$ of the function $f(x) = \\lvert x - \\frac{1}{2}\\rvert$ over the interval $x \\in [0, 1]$.\n",
    "Plot $f_N(x)$ for three values of $N$ with different quailtative behavior.\n",
    "Finally, make an interactive slider plot of $f_N(x)$, letting $N$ be an adjustable parameter.\n",
    "````\n",
    "\n",
    "````{tabbed} Hint\n",
    "In `sympy`, $\\lvert x - \\frac{1}{2}\\rvert$ can be represented symbolically as\n",
    "```python\n",
    "sympy.Abs(x - sp.Rational(1/2))\n",
    "```\n",
    "````\n",
    "\n",
    "````{tabbed} Solution\n",
    "```python\n",
    "def get_fourier_sums(xs, N):\n",
    "    fourier_sums = np.zeros(len(xs)) + .25\n",
    "    for n in range(1, N+1, 2):  # Even terms are zero\n",
    "        fourier_sums += np.cos(2*np.pi*n*xs) * 2 / (np.pi*n)**2\n",
    "    return fourier_sums\n",
    "\n",
    "@ipywidgets.interact(N=ipywidgets.IntSlider(min=1, max=50, step=1))\n",
    "def fourier_slider(N):\n",
    "    dx = .01\n",
    "    xs = np.arange(0+dx, 1, dx)\n",
    "    fig, ax = plt.subplots()\n",
    "    ax.set(xlabel='$x$', ylabel='$f_N(x)$', title='Fourier series of $|x - \\\\frac{1}{2}|$')\n",
    "    ax.plot(xs, get_fourier_sums(xs, N), label=f'$N={N}$')\n",
    "    ax.plot(xs, np.abs(xs - .5), '--', label='$|x - \\\\frac{1}{2}|$')\n",
    "    ax.legend()\n",
    "```\n",
    "````"
   ]
  },
  {
   "cell_type": "code",
   "execution_count": null,
   "id": "e83cbaa3",
   "metadata": {},
   "outputs": [],
   "source": [
    "\n",
    "# Your code goes here."
   ]
  },
  {
   "cell_type": "markdown",
   "id": "b4381b9d",
   "metadata": {
    "cell_marker": "\"\"\""
   },
   "source": [
    "New text."
   ]
  }
 ],
 "metadata": {
  "kernelspec": {
   "display_name": "Python 3",
   "language": "python",
   "name": "python3"
  }
 },
 "nbformat": 4,
 "nbformat_minor": 5
}
