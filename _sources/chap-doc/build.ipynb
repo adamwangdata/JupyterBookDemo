{
 "cells": [
  {
   "cell_type": "code",
   "execution_count": null,
   "id": "53572ca1",
   "metadata": {
    "tags": [
     "remove-cell"
    ],
    "title": "Figure Setup"
   },
   "outputs": [],
   "source": [
    "import matplotlib.pyplot as plt\n",
    "\n",
    "plt.rcParams['text.usetex'] = True\n",
    "plt.rcParams['font.family'] = 'computer modern sans serif'\n",
    "plt.rcParams['font.size'] = 9\n",
    "plt.rcParams['lines.markersize'] = 2.5\n",
    "plt.rcParams['figure.figsize'] = 3, 2\n",
    "plt.rcParams['figure.dpi'] = 136"
   ]
  },
  {
   "cell_type": "markdown",
   "id": "f3329a3d",
   "metadata": {
    "tags": [
     "remove-cell"
    ],
    "title": "Macros Setup"
   },
   "source": [
    "$$\n",
    "$$"
   ]
  },
  {
   "cell_type": "markdown",
   "id": "46275d56",
   "metadata": {
    "cell_marker": "\"\"\""
   },
   "source": [
    "# Building the Book\n",
    "\n",
    "This section describes how to build the book, given content."
   ]
  }
 ],
 "metadata": {
  "kernelspec": {
   "display_name": "Python 3",
   "language": "python",
   "name": "python3"
  }
 },
 "nbformat": 4,
 "nbformat_minor": 5
}
