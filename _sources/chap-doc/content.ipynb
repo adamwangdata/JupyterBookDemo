{
 "cells": [
  {
   "cell_type": "code",
   "execution_count": null,
   "id": "1e906694",
   "metadata": {
    "tags": [
     "hide-input",
     "thebe-init"
    ],
    "title": "Figure Setup"
   },
   "outputs": [],
   "source": [
    "# Set default plotting parameters.\n",
    "\n",
    "import matplotlib.pyplot as plt\n",
    "\n",
    "plt.rcParams['text.usetex'] = True\n",
    "plt.rcParams['font.family'] = 'computer modern sans serif'\n",
    "plt.rcParams['font.size'] = 9\n",
    "plt.rcParams['lines.markersize'] = 2.5\n",
    "plt.rcParams['figure.figsize'] = 3, 2\n",
    "plt.rcParams['figure.dpi'] = 136"
   ]
  },
  {
   "cell_type": "markdown",
   "id": "bc3b909d",
   "metadata": {
    "tags": [
     "remove-cell"
    ],
    "title": "Macros Setup"
   },
   "source": [
    "$$\n",
    "$$"
   ]
  },
  {
   "cell_type": "markdown",
   "id": "e0af6c96",
   "metadata": {
    "cell_marker": "\"\"\""
   },
   "source": [
    "# Writing Content\n",
    "\n",
    "This section describes how to write content produced in this book."
   ]
  }
 ],
 "metadata": {
  "kernelspec": {
   "display_name": "Python 3",
   "language": "python",
   "name": "python3"
  }
 },
 "nbformat": 4,
 "nbformat_minor": 5
}
